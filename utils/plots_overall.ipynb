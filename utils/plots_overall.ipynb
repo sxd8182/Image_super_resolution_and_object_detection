{
 "cells": [
  {
   "cell_type": "code",
   "execution_count": 1,
   "id": "993a5e97",
   "metadata": {},
   "outputs": [],
   "source": [
    "import pandas as pd\n",
    "import seaborn as sns\n",
    "import matplotlib.pyplot as plt\n",
    "\n",
    "df = pd.read_csv(\"/Users/sujandevkota/Desktop/Thesis/thesis2025/FINAL_RESULTS/Final_Combined_Results_CLEAN.csv\")\n",
    "df['ResValue'] = df['ResValue'].astype(int)\n",
    "\n",
    "df = df[df['ResValue'] != 640]\n",
    "\n",
    "metrics = ['Precision', 'Recall', 'mAP@0.5', 'mAP@0.5:0.95']\n",
    "for metric in metrics:\n",
    "    g = sns.catplot(\n",
    "        data=df,\n",
    "        kind=\"bar\",\n",
    "        x=\"ResValue\",\n",
    "        y=metric,\n",
    "        hue=\"Method\",\n",
    "        col=\"Test Set\",\n",
    "        palette=\"Set2\",\n",
    "        height=4,\n",
    "        aspect=1\n",
    "    )\n",
    "    g.set_titles(\"{col_name}\")\n",
    "    g.set_axis_labels(\"Input Resolution\", metric)\n",
    "    g.fig.suptitle(f\"{metric} Comparison Across Resolutions and Methods\", y=1.1)\n",
    "    plt.tight_layout()\n",
    "    g.savefig(f\"grouped_bar_{metric.replace('@', '').replace(':', '_')}.png\", dpi=300)\n",
    "    plt.close()\n"
   ]
  },
  {
   "cell_type": "code",
   "execution_count": 2,
   "id": "884800e8",
   "metadata": {},
   "outputs": [],
   "source": [
    "import pandas as pd\n",
    "import seaborn as sns\n",
    "import matplotlib.pyplot as plt\n",
    "\n",
    "df = pd.read_csv(\"/Users/sujandevkota/Desktop/Thesis/thesis2025/FINAL_RESULTS/Final_Combined_Results_CLEAN.csv\")\n",
    "df['ResValue'] = df['ResValue'].astype(int)\n",
    "df = df[df['ResValue'] != 640] \n",
    "\n",
    "metrics = ['Precision', 'Recall', 'mAP@0.5', 'mAP@0.5:0.95']\n",
    "for metric in metrics:\n",
    "    g = sns.catplot(\n",
    "        data=df,\n",
    "        kind=\"bar\",\n",
    "        x=\"ResValue\",\n",
    "        y=metric,\n",
    "        hue=\"Method\",\n",
    "        col=\"Test Set\",\n",
    "        palette=\"Set2\",\n",
    "        height=4,\n",
    "        aspect=1\n",
    "    )\n",
    "    g.set_titles(\"{col_name}\")\n",
    "    g.set_axis_labels(\"Input Resolution\", metric)\n",
    "    g.fig.suptitle(f\"{metric} Comparison Across Resolutions and Methods\", y=1.1)\n",
    "\n",
    "   \n",
    "    g._legend.set_bbox_to_anchor((1, 1))\n",
    "    g._legend.set_frame_on(True)\n",
    "    g._legend.set_title(\"Method\")\n",
    "\n",
    "    plt.tight_layout()\n",
    "    g.savefig(f\"grouped_bar_{metric.replace('@', '').replace(':', '_')}_filtered.png\", dpi=300)\n",
    "    plt.close()\n"
   ]
  },
  {
   "cell_type": "code",
   "execution_count": null,
   "id": "7539377f",
   "metadata": {},
   "outputs": [],
   "source": []
  }
 ],
 "metadata": {
  "kernelspec": {
   "display_name": "Python 3 (ipykernel)",
   "language": "python",
   "name": "python3"
  },
  "language_info": {
   "codemirror_mode": {
    "name": "ipython",
    "version": 3
   },
   "file_extension": ".py",
   "mimetype": "text/x-python",
   "name": "python",
   "nbconvert_exporter": "python",
   "pygments_lexer": "ipython3",
   "version": "3.9.16"
  }
 },
 "nbformat": 4,
 "nbformat_minor": 5
}
